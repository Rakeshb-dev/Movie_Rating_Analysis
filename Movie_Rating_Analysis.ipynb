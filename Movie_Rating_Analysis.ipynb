{
  "nbformat": 4,
  "nbformat_minor": 0,
  "metadata": {
    "colab": {
      "provenance": [],
      "authorship_tag": "ABX9TyOkzwE36MW1SLuGV+giuEVp",
      "include_colab_link": true
    },
    "kernelspec": {
      "name": "python3",
      "display_name": "Python 3"
    },
    "language_info": {
      "name": "python"
    }
  },
  "cells": [
    {
      "cell_type": "markdown",
      "metadata": {
        "id": "view-in-github",
        "colab_type": "text"
      },
      "source": [
        "<a href=\"https://colab.research.google.com/github/Rakeshb-dev/Movie_Rating_Analysis/blob/main/Movie_Rating_Analysis.ipynb\" target=\"_parent\"><img src=\"https://colab.research.google.com/assets/colab-badge.svg\" alt=\"Open In Colab\"/></a>"
      ]
    },
    {
      "cell_type": "code",
      "execution_count": null,
      "metadata": {
        "colab": {
          "base_uri": "https://localhost:8080/"
        },
        "id": "U4OFqwUW3fW2",
        "outputId": "d787e372-1125-44e9-a064-f8c75d14448a"
      },
      "outputs": [
        {
          "output_type": "stream",
          "name": "stdout",
          "text": [
            "Requirement already satisfied: pyspark in /usr/local/lib/python3.12/dist-packages (3.5.1)\n",
            "Requirement already satisfied: py4j==0.10.9.7 in /usr/local/lib/python3.12/dist-packages (from pyspark) (0.10.9.7)\n"
          ]
        }
      ],
      "source": [
        "!pip install pyspark"
      ]
    },
    {
      "cell_type": "code",
      "source": [
        "import pyspark\n",
        "from pyspark.sql import SparkSession\n",
        "\n",
        "spark = SparkSession.builder.appName(\"TestSpark\").getOrCreate()\n",
        "print(\"Spark is ready ✅ Version:\", spark.version)"
      ],
      "metadata": {
        "colab": {
          "base_uri": "https://localhost:8080/"
        },
        "id": "oRPW3nf13qtF",
        "outputId": "c14b9cdd-1ec0-4d3a-b66e-1d7e19e25247"
      },
      "execution_count": null,
      "outputs": [
        {
          "output_type": "stream",
          "name": "stdout",
          "text": [
            "Spark is ready ✅ Version: 3.5.1\n"
          ]
        }
      ]
    },
    {
      "cell_type": "code",
      "source": [
        "!wget https://files.grouplens.org/datasets/movielens/ml-latest-small.zip\n",
        "!unzip -o ml-latest-small.zip\n"
      ],
      "metadata": {
        "colab": {
          "base_uri": "https://localhost:8080/"
        },
        "id": "iFm9hmRy53xs",
        "outputId": "99cb62fa-da5a-4b28-eee7-41c681b97a0e"
      },
      "execution_count": null,
      "outputs": [
        {
          "output_type": "stream",
          "name": "stdout",
          "text": [
            "--2025-09-15 15:04:04--  https://files.grouplens.org/datasets/movielens/ml-latest-small.zip\n",
            "Resolving files.grouplens.org (files.grouplens.org)... 128.101.96.204\n",
            "Connecting to files.grouplens.org (files.grouplens.org)|128.101.96.204|:443... connected.\n",
            "HTTP request sent, awaiting response... 200 OK\n",
            "Length: 978202 (955K) [application/zip]\n",
            "Saving to: ‘ml-latest-small.zip’\n",
            "\n",
            "ml-latest-small.zip 100%[===================>] 955.28K  6.03MB/s    in 0.2s    \n",
            "\n",
            "2025-09-15 15:04:04 (6.03 MB/s) - ‘ml-latest-small.zip’ saved [978202/978202]\n",
            "\n",
            "Archive:  ml-latest-small.zip\n",
            "   creating: ml-latest-small/\n",
            "  inflating: ml-latest-small/links.csv  \n",
            "  inflating: ml-latest-small/tags.csv  \n",
            "  inflating: ml-latest-small/ratings.csv  \n",
            "  inflating: ml-latest-small/README.txt  \n",
            "  inflating: ml-latest-small/movies.csv  \n"
          ]
        }
      ]
    },
    {
      "cell_type": "code",
      "source": [
        "ratings = spark.read.csv(\"ml-latest-small/ratings.csv\", header=True, inferSchema=True)\n",
        "movies = spark.read.csv(\"ml-latest-small/movies.csv\", header=True, inferSchema=True)\n",
        "\n",
        "ratings.printSchema()\n",
        "movies.printSchema()\n",
        "\n",
        "ratings.show(5)\n",
        "movies.show(5)\n"
      ],
      "metadata": {
        "colab": {
          "base_uri": "https://localhost:8080/"
        },
        "id": "zSg2K6MT5m9q",
        "outputId": "d3c950ef-bdbb-4791-eb57-928fb589ac05"
      },
      "execution_count": null,
      "outputs": [
        {
          "output_type": "stream",
          "name": "stdout",
          "text": [
            "root\n",
            " |-- userId: integer (nullable = true)\n",
            " |-- movieId: integer (nullable = true)\n",
            " |-- rating: double (nullable = true)\n",
            " |-- timestamp: integer (nullable = true)\n",
            "\n",
            "root\n",
            " |-- movieId: integer (nullable = true)\n",
            " |-- title: string (nullable = true)\n",
            " |-- genres: string (nullable = true)\n",
            "\n",
            "+------+-------+------+---------+\n",
            "|userId|movieId|rating|timestamp|\n",
            "+------+-------+------+---------+\n",
            "|     1|      1|   4.0|964982703|\n",
            "|     1|      3|   4.0|964981247|\n",
            "|     1|      6|   4.0|964982224|\n",
            "|     1|     47|   5.0|964983815|\n",
            "|     1|     50|   5.0|964982931|\n",
            "+------+-------+------+---------+\n",
            "only showing top 5 rows\n",
            "\n",
            "+-------+--------------------+--------------------+\n",
            "|movieId|               title|              genres|\n",
            "+-------+--------------------+--------------------+\n",
            "|      1|    Toy Story (1995)|Adventure|Animati...|\n",
            "|      2|      Jumanji (1995)|Adventure|Childre...|\n",
            "|      3|Grumpier Old Men ...|      Comedy|Romance|\n",
            "|      4|Waiting to Exhale...|Comedy|Drama|Romance|\n",
            "|      5|Father of the Bri...|              Comedy|\n",
            "+-------+--------------------+--------------------+\n",
            "only showing top 5 rows\n",
            "\n"
          ]
        }
      ]
    },
    {
      "cell_type": "code",
      "source": [
        "# Convert ratings DataFrame to RDD (movieId → (rating, 1))\n",
        "ratings_rdd = ratings.rdd.map(lambda row: (row['movieId'], (row['rating'], 1)))\n",
        "\n",
        "# ReduceByKey to sum ratings and counts\n",
        "movie_rating_totals = ratings_rdd.reduceByKey(lambda a, b: (a[0] + b[0], a[1] + b[1]))\n",
        "\n",
        "# Calculate average\n",
        "movie_avg_ratings = movie_rating_totals.mapValues(lambda x: round(x[0] / x[1], 2))\n",
        "\n",
        "# Convert movies DataFrame to RDD (movieId → title)\n",
        "movies_rdd = movies.rdd.map(lambda row: (row['movieId'], row['title']))\n",
        "\n",
        "# Join average ratings with movie titles\n",
        "movie_avg_with_names = movie_avg_ratings.join(movies_rdd)\n",
        "\n",
        "# Sort by rating (descending)\n",
        "top_movies = movie_avg_with_names.sortBy(lambda x: x[1][0], ascending=False)\n",
        "\n",
        "# Show top 10\n",
        "for movie in top_movies.take(10):\n",
        "    print(movie)\n"
      ],
      "metadata": {
        "colab": {
          "base_uri": "https://localhost:8080/"
        },
        "id": "0HoyUBx16qXB",
        "outputId": "ebb24019-2dcd-47b0-a31a-7fd7e4926e9f"
      },
      "execution_count": null,
      "outputs": [
        {
          "output_type": "stream",
          "name": "stdout",
          "text": [
            "(131724, (5.0, 'The Jinx: The Life and Deaths of Robert Durst (2015)'))\n",
            "(5746, (5.0, 'Galaxy of Terror (Quest) (1981)'))\n",
            "(92494, (5.0, 'Dylan Moran: Monster (2004)'))\n",
            "(67618, (5.0, 'Strictly Sexual (2008)'))\n",
            "(8804, (5.0, 'Story of Women (Affaire de femmes, Une) (1988)'))\n",
            "(26350, (5.0, 'Passenger, The (Professione: reporter) (1975)'))\n",
            "(31522, (5.0, 'Marriage of Maria Braun, The (Ehe der Maria Braun, Die) (1979)'))\n",
            "(1140, (5.0, 'Entertaining Angels: The Dorothy Day Story (1996)'))\n",
            "(6402, (5.0, 'Siam Sunset (1999)'))\n",
            "(8238, (5.0, 'Little Murders (1971)'))\n"
          ]
        }
      ]
    },
    {
      "cell_type": "code",
      "source": [
        "# Create temporary views\n",
        "ratings.createOrReplaceTempView(\"ratings\")\n",
        "movies.createOrReplaceTempView(\"movies\")\n",
        "\n",
        "# Calculate average ratings using SQL\n",
        "avg_ratings_sql = spark.sql(\"\"\"\n",
        "    SELECT m.title, ROUND(AVG(r.rating), 2) AS avg_rating, COUNT(r.rating) AS num_ratings\n",
        "    FROM ratings r\n",
        "    JOIN movies m ON r.movieId = m.movieId\n",
        "    GROUP BY m.title\n",
        "    ORDER BY avg_rating DESC, num_ratings DESC\n",
        "    LIMIT 10\n",
        "\"\"\")\n",
        "\n",
        "avg_ratings_sql.show()\n"
      ],
      "metadata": {
        "id": "zAFsQF_y7Fyd",
        "outputId": "eefb4596-7ef3-49a9-940a-2b55a8ed6997",
        "colab": {
          "base_uri": "https://localhost:8080/"
        }
      },
      "execution_count": null,
      "outputs": [
        {
          "output_type": "stream",
          "name": "stdout",
          "text": [
            "+--------------------+----------+-----------+\n",
            "|               title|avg_rating|num_ratings|\n",
            "+--------------------+----------+-----------+\n",
            "|Heidi Fleiss: Hol...|       5.0|          2|\n",
            "|     Lamerica (1994)|       5.0|          2|\n",
            "| Lesson Faust (1994)|       5.0|          2|\n",
            "| Belle époque (1992)|       5.0|          2|\n",
            "|Come and See (Idi...|       5.0|          2|\n",
            "|Enter the Void (2...|       5.0|          2|\n",
            "|Jonah Who Will Be...|       5.0|          2|\n",
            "|Martin Lawrence L...|       5.0|          1|\n",
            "|Tickling Giants (...|       5.0|          1|\n",
            "|Bill Hicks: Revel...|       5.0|          1|\n",
            "+--------------------+----------+-----------+\n",
            "\n"
          ]
        }
      ]
    }
  ]
}